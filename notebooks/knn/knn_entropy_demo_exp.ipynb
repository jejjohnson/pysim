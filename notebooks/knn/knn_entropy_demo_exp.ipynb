{
 "cells": [
  {
   "cell_type": "code",
   "execution_count": 1,
   "id": "accessible-spine",
   "metadata": {},
   "outputs": [],
   "source": [
    "import sys, os\n",
    "from pyprojroot import here\n",
    "\n",
    "# spyder up to find the root\n",
    "root = here(project_files=[\".here\"])\n",
    "pysim_root = \"/home/emmanuel/code/pysim\"\n",
    "# append to path\n",
    "sys.path.append(str(root))\n",
    "sys.path.append(str(pysim_root))\n",
    "\n",
    "\n",
    "import numpy as np\n",
    "\n",
    "# MATPLOTLIB Settings\n",
    "import matplotlib as mpl\n",
    "import matplotlib.pyplot as plt\n",
    "\n",
    "%matplotlib inline\n",
    "%config InlineBackend.figure_format = 'retina'\n",
    "\n",
    "# SEABORN SETTINGS\n",
    "import seaborn as sns\n",
    "\n",
    "sns.set_context(context=\"talk\", font_scale=0.7)\n",
    "\n",
    "%load_ext autoreload\n",
    "%autoreload 2\n",
    "%load_ext lab_black"
   ]
  },
  {
   "cell_type": "markdown",
   "id": "imperial-science",
   "metadata": {},
   "source": [
    "## Entropy"
   ]
  },
  {
   "cell_type": "code",
   "execution_count": 41,
   "id": "continued-sending",
   "metadata": {},
   "outputs": [],
   "source": [
    "from pysim.data.information.gaussian import (\n",
    "    generate_gaussian_data,\n",
    "    generate_gaussian_rotation_data,\n",
    ")\n",
    "from pysim.data.information.linear import generate_linear_entropy_data\n",
    "from pysim.information.histogram import hist_entropy\n",
    "from pysim.information.entropy import marginal_entropy\n",
    "from functools import partial"
   ]
  },
  {
   "cell_type": "code",
   "execution_count": 42,
   "id": "external-premiere",
   "metadata": {},
   "outputs": [
    {
     "data": {
      "text/plain": [
       "2.3529096902887097"
      ]
     },
     "execution_count": 42,
     "metadata": {},
     "output_type": "execute_result"
    }
   ],
   "source": [
    "n_samples = 50_000\n",
    "n_features = 2\n",
    "seed = 123\n",
    "\n",
    "# create marginal entropy estimator\n",
    "f = partial(marginal_entropy, estimator=hist_entropy, bins=\"sqrt\", correction=None)\n",
    "\n",
    "# create seed (trial number)\n",
    "res_dict = generate_linear_entropy_data(\n",
    "    n_samples=n_samples,\n",
    "    n_features=n_features,\n",
    "    seed=seed,\n",
    "    marg_h_estimator=f,\n",
    "    estimator_name=\"histogram\",\n",
    "    n_base_samples=500_000,\n",
    ")\n",
    "\n",
    "res_dict.H"
   ]
  },
  {
   "cell_type": "markdown",
   "id": "recent-webster",
   "metadata": {},
   "source": [
    "## Demo"
   ]
  },
  {
   "cell_type": "markdown",
   "id": "tropical-seating",
   "metadata": {},
   "source": [
    "### Estimators"
   ]
  },
  {
   "cell_type": "code",
   "execution_count": 43,
   "id": "floppy-hampton",
   "metadata": {},
   "outputs": [],
   "source": [
    "from pysim.information.gaussian import gauss_entropy_multi\n",
    "from pysim.information.knn import knn_entropy, knn_entropy_npeet\n",
    "import time\n",
    "\n",
    "\n",
    "def get_entropy_estimators(data):\n",
    "\n",
    "    t0 = time.time()\n",
    "    H_g = gauss_entropy_multi(data)\n",
    "    print(f\"Gaussian: {H_g:.4f} | Time: {time.time()-t0:.4f} secs\")\n",
    "\n",
    "    t0 = time.time()\n",
    "    H_knn_nbs = knn_entropy(X=data, n_neighbors=10, base=2)\n",
    "    print(f\"KNN (Neighbours): {H_knn_nbs:.4f} | Time: {time.time()-t0:.4f} secs\")\n",
    "\n",
    "    t0 = time.time()\n",
    "    H_knn_eps = knn_entropy_npeet(X=data, n_neighbors=10, base=2)\n",
    "    print(f\"KNN (epsilon): {H_knn_eps:.4f} | Time: {time.time()-t0:.4f} secs\")"
   ]
  },
  {
   "cell_type": "code",
   "execution_count": 44,
   "id": "grave-hanging",
   "metadata": {},
   "outputs": [
    {
     "name": "stdout",
     "output_type": "stream",
     "text": [
      "Gaussian: 3.7915 | Time: 0.0051 secs\n",
      "KNN (Neighbours): 2.6766 | Time: 0.2744 secs\n",
      "KNN (epsilon): 2.7663 | Time: 0.2392 secs\n"
     ]
    }
   ],
   "source": [
    "get_entropy_estimators(res_dict.X.copy())"
   ]
  },
  {
   "cell_type": "markdown",
   "id": "romance-duplicate",
   "metadata": {},
   "source": [
    "## Demo Experiment"
   ]
  },
  {
   "cell_type": "code",
   "execution_count": 45,
   "id": "inner-insured",
   "metadata": {},
   "outputs": [],
   "source": [
    "n_samples = [500, 1_000, 5_000, 10_000, 50_000]\n",
    "# n_features = [1, 2, 3, 10, 50, 100]\n",
    "n_features = [10]\n",
    "n_trials = 10"
   ]
  },
  {
   "cell_type": "code",
   "execution_count": 46,
   "id": "gothic-lindsay",
   "metadata": {},
   "outputs": [
    {
     "data": {
      "application/vnd.jupyter.widget-view+json": {
       "model_id": "6561a19914904e6f99522cda283562ab",
       "version_major": 2,
       "version_minor": 0
      },
      "text/plain": [
       "  0%|          | 0/1 [00:00<?, ?it/s]"
      ]
     },
     "metadata": {},
     "output_type": "display_data"
    },
    {
     "data": {
      "application/vnd.jupyter.widget-view+json": {
       "model_id": "",
       "version_major": 2,
       "version_minor": 0
      },
      "text/plain": [
       "  0%|          | 0/5 [00:00<?, ?it/s]"
      ]
     },
     "metadata": {},
     "output_type": "display_data"
    },
    {
     "data": {
      "application/vnd.jupyter.widget-view+json": {
       "model_id": "",
       "version_major": 2,
       "version_minor": 0
      },
      "text/plain": [
       "  0%|          | 0/10 [00:00<?, ?it/s]"
      ]
     },
     "metadata": {},
     "output_type": "display_data"
    },
    {
     "data": {
      "application/vnd.jupyter.widget-view+json": {
       "model_id": "",
       "version_major": 2,
       "version_minor": 0
      },
      "text/plain": [
       "  0%|          | 0/10 [00:00<?, ?it/s]"
      ]
     },
     "metadata": {},
     "output_type": "display_data"
    },
    {
     "data": {
      "application/vnd.jupyter.widget-view+json": {
       "model_id": "",
       "version_major": 2,
       "version_minor": 0
      },
      "text/plain": [
       "  0%|          | 0/10 [00:00<?, ?it/s]"
      ]
     },
     "metadata": {},
     "output_type": "display_data"
    },
    {
     "data": {
      "application/vnd.jupyter.widget-view+json": {
       "model_id": "",
       "version_major": 2,
       "version_minor": 0
      },
      "text/plain": [
       "  0%|          | 0/10 [00:00<?, ?it/s]"
      ]
     },
     "metadata": {},
     "output_type": "display_data"
    },
    {
     "data": {
      "application/vnd.jupyter.widget-view+json": {
       "model_id": "",
       "version_major": 2,
       "version_minor": 0
      },
      "text/plain": [
       "  0%|          | 0/10 [00:00<?, ?it/s]"
      ]
     },
     "metadata": {},
     "output_type": "display_data"
    }
   ],
   "source": [
    "from tqdm.notebook import tqdm, trange\n",
    "import pandas as pd\n",
    "import itertools\n",
    "import numpy as np\n",
    "\n",
    "iteration = itertools.count()\n",
    "\n",
    "\n",
    "all_stats = pd.DataFrame()\n",
    "\n",
    "\n",
    "pbar_features = tqdm(n_features, leave=True)\n",
    "\n",
    "for i_features in pbar_features:\n",
    "\n",
    "    pbar_features.set_description(f\"Features: {i_features}\")\n",
    "\n",
    "    results = {}\n",
    "\n",
    "    pbar_samples = tqdm(n_samples, leave=False)\n",
    "\n",
    "    for i_samples in pbar_samples:\n",
    "\n",
    "        pbar_samples.set_description(f\"Samples: {i_samples}\")\n",
    "\n",
    "        pbar_trials = trange(n_trials, leave=False)\n",
    "\n",
    "        for i_trial in pbar_trials:\n",
    "\n",
    "            pbar_trials.set_description(f\"Trials: {i_trial} | Method: GT\")\n",
    "\n",
    "            # generate data\n",
    "            res_dict = generate_linear_entropy_data(\n",
    "                n_samples=i_samples,\n",
    "                n_features=i_features,\n",
    "                seed=i_trial,\n",
    "                marg_h_estimator=f,\n",
    "                estimator_name=\"histogram\",\n",
    "                n_base_samples=500_000,\n",
    "            )\n",
    "            results = {\n",
    "                \"method\": \"truth\",\n",
    "                \"n_samples\": i_samples,\n",
    "                \"n_features\": i_features,\n",
    "                \"trial\": i_trial,\n",
    "                \"H\": res_dict.H,\n",
    "            }\n",
    "            all_stats = pd.concat(\n",
    "                [all_stats, pd.DataFrame(results, index=[next(iteration)])], axis=0\n",
    "            )\n",
    "\n",
    "            # ======================\n",
    "            # Gaussian Estimation\n",
    "            # ======================\n",
    "            pbar_trials.set_description(f\"Trials: {i_trial} | Method: Gaussian\")\n",
    "\n",
    "            output = gauss_entropy_multi(res_dict.X.copy())\n",
    "            results = {\n",
    "                \"method\": \"gaussian\",\n",
    "                \"n_samples\": i_samples,\n",
    "                \"n_features\": i_features,\n",
    "                \"trial\": i_trial,\n",
    "                \"H\": output,\n",
    "            }\n",
    "\n",
    "            all_stats = pd.concat(\n",
    "                [all_stats, pd.DataFrame(results, index=[next(iteration)])], axis=0\n",
    "            )\n",
    "\n",
    "            # ==========================\n",
    "            # KNN estimated (Neighbors)\n",
    "            # ==========================\n",
    "\n",
    "            pbar_trials.set_description(f\"Trials: {i_trial} | Method: KNN (Neighbors)\")\n",
    "\n",
    "            output = knn_entropy(X=res_dict.X.copy(), n_neighbors=10, base=2, n_jobs=-1)\n",
    "\n",
    "            results = {\n",
    "                \"method\": \"knn_nbs\",\n",
    "                \"n_samples\": i_samples,\n",
    "                \"n_features\": i_features,\n",
    "                \"trial\": i_trial,\n",
    "                \"H\": output,\n",
    "            }\n",
    "\n",
    "            all_stats = pd.concat(\n",
    "                [all_stats, pd.DataFrame(results, index=[next(iteration)])], axis=0\n",
    "            )\n",
    "\n",
    "            # ==========================\n",
    "            # KNN estimated (Epsilon)\n",
    "            # ==========================\n",
    "            pbar_trials.set_description(\n",
    "                f\"Trials: {i_trial} | Method: KNN (Epsilon-Ball)\"\n",
    "            )\n",
    "\n",
    "            output = knn_entropy_npeet(\n",
    "                X=res_dict.X.copy(), n_neighbors=10, base=2, n_jobs=-1\n",
    "            )\n",
    "\n",
    "            results = {\n",
    "                \"method\": \"knn_tree\",\n",
    "                \"n_samples\": i_samples,\n",
    "                \"n_features\": i_features,\n",
    "                \"trial\": i_trial,\n",
    "                \"H\": output,\n",
    "            }\n",
    "\n",
    "            all_stats = pd.concat(\n",
    "                [all_stats, pd.DataFrame(results, index=[next(iteration)])], axis=0\n",
    "            )"
   ]
  },
  {
   "cell_type": "code",
   "execution_count": 47,
   "id": "returning-citation",
   "metadata": {},
   "outputs": [],
   "source": [
    "all_stats_ = all_stats.copy()\n",
    "all_stats_[\"algorithm\"] = all_stats_[\"method\"]\n",
    "all_stats_ = all_stats_.drop([\"method\"], axis=1)"
   ]
  },
  {
   "cell_type": "code",
   "execution_count": 48,
   "id": "stylish-oasis",
   "metadata": {},
   "outputs": [],
   "source": [
    "all_stats_ = all_stats_.set_index([\"n_samples\", \"n_features\", \"trial\", \"algorithm\"])"
   ]
  },
  {
   "cell_type": "code",
   "execution_count": 49,
   "id": "nearby-anderson",
   "metadata": {},
   "outputs": [],
   "source": [
    "stats_ds = all_stats_.to_xarray()"
   ]
  },
  {
   "cell_type": "code",
   "execution_count": 50,
   "id": "sensitive-cattle",
   "metadata": {},
   "outputs": [
    {
     "data": {
      "text/html": [
       "<div><svg style=\"position: absolute; width: 0; height: 0; overflow: hidden\">\n",
       "<defs>\n",
       "<symbol id=\"icon-database\" viewBox=\"0 0 32 32\">\n",
       "<path d=\"M16 0c-8.837 0-16 2.239-16 5v4c0 2.761 7.163 5 16 5s16-2.239 16-5v-4c0-2.761-7.163-5-16-5z\"></path>\n",
       "<path d=\"M16 17c-8.837 0-16-2.239-16-5v6c0 2.761 7.163 5 16 5s16-2.239 16-5v-6c0 2.761-7.163 5-16 5z\"></path>\n",
       "<path d=\"M16 26c-8.837 0-16-2.239-16-5v6c0 2.761 7.163 5 16 5s16-2.239 16-5v-6c0 2.761-7.163 5-16 5z\"></path>\n",
       "</symbol>\n",
       "<symbol id=\"icon-file-text2\" viewBox=\"0 0 32 32\">\n",
       "<path d=\"M28.681 7.159c-0.694-0.947-1.662-2.053-2.724-3.116s-2.169-2.030-3.116-2.724c-1.612-1.182-2.393-1.319-2.841-1.319h-15.5c-1.378 0-2.5 1.121-2.5 2.5v27c0 1.378 1.122 2.5 2.5 2.5h23c1.378 0 2.5-1.122 2.5-2.5v-19.5c0-0.448-0.137-1.23-1.319-2.841zM24.543 5.457c0.959 0.959 1.712 1.825 2.268 2.543h-4.811v-4.811c0.718 0.556 1.584 1.309 2.543 2.268zM28 29.5c0 0.271-0.229 0.5-0.5 0.5h-23c-0.271 0-0.5-0.229-0.5-0.5v-27c0-0.271 0.229-0.5 0.5-0.5 0 0 15.499-0 15.5 0v7c0 0.552 0.448 1 1 1h7v19.5z\"></path>\n",
       "<path d=\"M23 26h-14c-0.552 0-1-0.448-1-1s0.448-1 1-1h14c0.552 0 1 0.448 1 1s-0.448 1-1 1z\"></path>\n",
       "<path d=\"M23 22h-14c-0.552 0-1-0.448-1-1s0.448-1 1-1h14c0.552 0 1 0.448 1 1s-0.448 1-1 1z\"></path>\n",
       "<path d=\"M23 18h-14c-0.552 0-1-0.448-1-1s0.448-1 1-1h14c0.552 0 1 0.448 1 1s-0.448 1-1 1z\"></path>\n",
       "</symbol>\n",
       "</defs>\n",
       "</svg>\n",
       "<style>/* CSS stylesheet for displaying xarray objects in jupyterlab.\n",
       " *\n",
       " */\n",
       "\n",
       ":root {\n",
       "  --xr-font-color0: var(--jp-content-font-color0, rgba(0, 0, 0, 1));\n",
       "  --xr-font-color2: var(--jp-content-font-color2, rgba(0, 0, 0, 0.54));\n",
       "  --xr-font-color3: var(--jp-content-font-color3, rgba(0, 0, 0, 0.38));\n",
       "  --xr-border-color: var(--jp-border-color2, #e0e0e0);\n",
       "  --xr-disabled-color: var(--jp-layout-color3, #bdbdbd);\n",
       "  --xr-background-color: var(--jp-layout-color0, white);\n",
       "  --xr-background-color-row-even: var(--jp-layout-color1, white);\n",
       "  --xr-background-color-row-odd: var(--jp-layout-color2, #eeeeee);\n",
       "}\n",
       "\n",
       "html[theme=dark],\n",
       "body.vscode-dark {\n",
       "  --xr-font-color0: rgba(255, 255, 255, 1);\n",
       "  --xr-font-color2: rgba(255, 255, 255, 0.54);\n",
       "  --xr-font-color3: rgba(255, 255, 255, 0.38);\n",
       "  --xr-border-color: #1F1F1F;\n",
       "  --xr-disabled-color: #515151;\n",
       "  --xr-background-color: #111111;\n",
       "  --xr-background-color-row-even: #111111;\n",
       "  --xr-background-color-row-odd: #313131;\n",
       "}\n",
       "\n",
       ".xr-wrap {\n",
       "  display: block;\n",
       "  min-width: 300px;\n",
       "  max-width: 700px;\n",
       "}\n",
       "\n",
       ".xr-text-repr-fallback {\n",
       "  /* fallback to plain text repr when CSS is not injected (untrusted notebook) */\n",
       "  display: none;\n",
       "}\n",
       "\n",
       ".xr-header {\n",
       "  padding-top: 6px;\n",
       "  padding-bottom: 6px;\n",
       "  margin-bottom: 4px;\n",
       "  border-bottom: solid 1px var(--xr-border-color);\n",
       "}\n",
       "\n",
       ".xr-header > div,\n",
       ".xr-header > ul {\n",
       "  display: inline;\n",
       "  margin-top: 0;\n",
       "  margin-bottom: 0;\n",
       "}\n",
       "\n",
       ".xr-obj-type,\n",
       ".xr-array-name {\n",
       "  margin-left: 2px;\n",
       "  margin-right: 10px;\n",
       "}\n",
       "\n",
       ".xr-obj-type {\n",
       "  color: var(--xr-font-color2);\n",
       "}\n",
       "\n",
       ".xr-sections {\n",
       "  padding-left: 0 !important;\n",
       "  display: grid;\n",
       "  grid-template-columns: 150px auto auto 1fr 20px 20px;\n",
       "}\n",
       "\n",
       ".xr-section-item {\n",
       "  display: contents;\n",
       "}\n",
       "\n",
       ".xr-section-item input {\n",
       "  display: none;\n",
       "}\n",
       "\n",
       ".xr-section-item input + label {\n",
       "  color: var(--xr-disabled-color);\n",
       "}\n",
       "\n",
       ".xr-section-item input:enabled + label {\n",
       "  cursor: pointer;\n",
       "  color: var(--xr-font-color2);\n",
       "}\n",
       "\n",
       ".xr-section-item input:enabled + label:hover {\n",
       "  color: var(--xr-font-color0);\n",
       "}\n",
       "\n",
       ".xr-section-summary {\n",
       "  grid-column: 1;\n",
       "  color: var(--xr-font-color2);\n",
       "  font-weight: 500;\n",
       "}\n",
       "\n",
       ".xr-section-summary > span {\n",
       "  display: inline-block;\n",
       "  padding-left: 0.5em;\n",
       "}\n",
       "\n",
       ".xr-section-summary-in:disabled + label {\n",
       "  color: var(--xr-font-color2);\n",
       "}\n",
       "\n",
       ".xr-section-summary-in + label:before {\n",
       "  display: inline-block;\n",
       "  content: '►';\n",
       "  font-size: 11px;\n",
       "  width: 15px;\n",
       "  text-align: center;\n",
       "}\n",
       "\n",
       ".xr-section-summary-in:disabled + label:before {\n",
       "  color: var(--xr-disabled-color);\n",
       "}\n",
       "\n",
       ".xr-section-summary-in:checked + label:before {\n",
       "  content: '▼';\n",
       "}\n",
       "\n",
       ".xr-section-summary-in:checked + label > span {\n",
       "  display: none;\n",
       "}\n",
       "\n",
       ".xr-section-summary,\n",
       ".xr-section-inline-details {\n",
       "  padding-top: 4px;\n",
       "  padding-bottom: 4px;\n",
       "}\n",
       "\n",
       ".xr-section-inline-details {\n",
       "  grid-column: 2 / -1;\n",
       "}\n",
       "\n",
       ".xr-section-details {\n",
       "  display: none;\n",
       "  grid-column: 1 / -1;\n",
       "  margin-bottom: 5px;\n",
       "}\n",
       "\n",
       ".xr-section-summary-in:checked ~ .xr-section-details {\n",
       "  display: contents;\n",
       "}\n",
       "\n",
       ".xr-array-wrap {\n",
       "  grid-column: 1 / -1;\n",
       "  display: grid;\n",
       "  grid-template-columns: 20px auto;\n",
       "}\n",
       "\n",
       ".xr-array-wrap > label {\n",
       "  grid-column: 1;\n",
       "  vertical-align: top;\n",
       "}\n",
       "\n",
       ".xr-preview {\n",
       "  color: var(--xr-font-color3);\n",
       "}\n",
       "\n",
       ".xr-array-preview,\n",
       ".xr-array-data {\n",
       "  padding: 0 5px !important;\n",
       "  grid-column: 2;\n",
       "}\n",
       "\n",
       ".xr-array-data,\n",
       ".xr-array-in:checked ~ .xr-array-preview {\n",
       "  display: none;\n",
       "}\n",
       "\n",
       ".xr-array-in:checked ~ .xr-array-data,\n",
       ".xr-array-preview {\n",
       "  display: inline-block;\n",
       "}\n",
       "\n",
       ".xr-dim-list {\n",
       "  display: inline-block !important;\n",
       "  list-style: none;\n",
       "  padding: 0 !important;\n",
       "  margin: 0;\n",
       "}\n",
       "\n",
       ".xr-dim-list li {\n",
       "  display: inline-block;\n",
       "  padding: 0;\n",
       "  margin: 0;\n",
       "}\n",
       "\n",
       ".xr-dim-list:before {\n",
       "  content: '(';\n",
       "}\n",
       "\n",
       ".xr-dim-list:after {\n",
       "  content: ')';\n",
       "}\n",
       "\n",
       ".xr-dim-list li:not(:last-child):after {\n",
       "  content: ',';\n",
       "  padding-right: 5px;\n",
       "}\n",
       "\n",
       ".xr-has-index {\n",
       "  font-weight: bold;\n",
       "}\n",
       "\n",
       ".xr-var-list,\n",
       ".xr-var-item {\n",
       "  display: contents;\n",
       "}\n",
       "\n",
       ".xr-var-item > div,\n",
       ".xr-var-item label,\n",
       ".xr-var-item > .xr-var-name span {\n",
       "  background-color: var(--xr-background-color-row-even);\n",
       "  margin-bottom: 0;\n",
       "}\n",
       "\n",
       ".xr-var-item > .xr-var-name:hover span {\n",
       "  padding-right: 5px;\n",
       "}\n",
       "\n",
       ".xr-var-list > li:nth-child(odd) > div,\n",
       ".xr-var-list > li:nth-child(odd) > label,\n",
       ".xr-var-list > li:nth-child(odd) > .xr-var-name span {\n",
       "  background-color: var(--xr-background-color-row-odd);\n",
       "}\n",
       "\n",
       ".xr-var-name {\n",
       "  grid-column: 1;\n",
       "}\n",
       "\n",
       ".xr-var-dims {\n",
       "  grid-column: 2;\n",
       "}\n",
       "\n",
       ".xr-var-dtype {\n",
       "  grid-column: 3;\n",
       "  text-align: right;\n",
       "  color: var(--xr-font-color2);\n",
       "}\n",
       "\n",
       ".xr-var-preview {\n",
       "  grid-column: 4;\n",
       "}\n",
       "\n",
       ".xr-var-name,\n",
       ".xr-var-dims,\n",
       ".xr-var-dtype,\n",
       ".xr-preview,\n",
       ".xr-attrs dt {\n",
       "  white-space: nowrap;\n",
       "  overflow: hidden;\n",
       "  text-overflow: ellipsis;\n",
       "  padding-right: 10px;\n",
       "}\n",
       "\n",
       ".xr-var-name:hover,\n",
       ".xr-var-dims:hover,\n",
       ".xr-var-dtype:hover,\n",
       ".xr-attrs dt:hover {\n",
       "  overflow: visible;\n",
       "  width: auto;\n",
       "  z-index: 1;\n",
       "}\n",
       "\n",
       ".xr-var-attrs,\n",
       ".xr-var-data {\n",
       "  display: none;\n",
       "  background-color: var(--xr-background-color) !important;\n",
       "  padding-bottom: 5px !important;\n",
       "}\n",
       "\n",
       ".xr-var-attrs-in:checked ~ .xr-var-attrs,\n",
       ".xr-var-data-in:checked ~ .xr-var-data {\n",
       "  display: block;\n",
       "}\n",
       "\n",
       ".xr-var-data > table {\n",
       "  float: right;\n",
       "}\n",
       "\n",
       ".xr-var-name span,\n",
       ".xr-var-data,\n",
       ".xr-attrs {\n",
       "  padding-left: 25px !important;\n",
       "}\n",
       "\n",
       ".xr-attrs,\n",
       ".xr-var-attrs,\n",
       ".xr-var-data {\n",
       "  grid-column: 1 / -1;\n",
       "}\n",
       "\n",
       "dl.xr-attrs {\n",
       "  padding: 0;\n",
       "  margin: 0;\n",
       "  display: grid;\n",
       "  grid-template-columns: 125px auto;\n",
       "}\n",
       "\n",
       ".xr-attrs dt, dd {\n",
       "  padding: 0;\n",
       "  margin: 0;\n",
       "  float: left;\n",
       "  padding-right: 10px;\n",
       "  width: auto;\n",
       "}\n",
       "\n",
       ".xr-attrs dt {\n",
       "  font-weight: normal;\n",
       "  grid-column: 1;\n",
       "}\n",
       "\n",
       ".xr-attrs dt:hover span {\n",
       "  display: inline-block;\n",
       "  background: var(--xr-background-color);\n",
       "  padding-right: 10px;\n",
       "}\n",
       "\n",
       ".xr-attrs dd {\n",
       "  grid-column: 2;\n",
       "  white-space: pre-wrap;\n",
       "  word-break: break-all;\n",
       "}\n",
       "\n",
       ".xr-icon-database,\n",
       ".xr-icon-file-text2 {\n",
       "  display: inline-block;\n",
       "  vertical-align: middle;\n",
       "  width: 1em;\n",
       "  height: 1.5em !important;\n",
       "  stroke-width: 0;\n",
       "  stroke: currentColor;\n",
       "  fill: currentColor;\n",
       "}\n",
       "</style><pre class='xr-text-repr-fallback'>&lt;xarray.Dataset&gt;\n",
       "Dimensions:     (algorithm: 4, n_features: 1, n_samples: 5, trial: 10)\n",
       "Coordinates:\n",
       "  * n_samples   (n_samples) int64 500 1000 5000 10000 50000\n",
       "  * n_features  (n_features) int64 10\n",
       "  * trial       (trial) int64 0 1 2 3 4 5 6 7 8 9\n",
       "  * algorithm   (algorithm) object &#x27;gaussian&#x27; &#x27;knn_nbs&#x27; &#x27;knn_tree&#x27; &#x27;truth&#x27;\n",
       "Data variables:\n",
       "    H           (n_samples, n_features, trial, algorithm) float64 9.819 ... 1...</pre><div class='xr-wrap' hidden><div class='xr-header'><div class='xr-obj-type'>xarray.Dataset</div></div><ul class='xr-sections'><li class='xr-section-item'><input id='section-259c7bae-4adf-4b88-a351-2871524679de' class='xr-section-summary-in' type='checkbox' disabled ><label for='section-259c7bae-4adf-4b88-a351-2871524679de' class='xr-section-summary'  title='Expand/collapse section'>Dimensions:</label><div class='xr-section-inline-details'><ul class='xr-dim-list'><li><span class='xr-has-index'>algorithm</span>: 4</li><li><span class='xr-has-index'>n_features</span>: 1</li><li><span class='xr-has-index'>n_samples</span>: 5</li><li><span class='xr-has-index'>trial</span>: 10</li></ul></div><div class='xr-section-details'></div></li><li class='xr-section-item'><input id='section-b292ceb2-caac-4d35-afed-4002e1f2ebbf' class='xr-section-summary-in' type='checkbox'  checked><label for='section-b292ceb2-caac-4d35-afed-4002e1f2ebbf' class='xr-section-summary' >Coordinates: <span>(4)</span></label><div class='xr-section-inline-details'></div><div class='xr-section-details'><ul class='xr-var-list'><li class='xr-var-item'><div class='xr-var-name'><span class='xr-has-index'>n_samples</span></div><div class='xr-var-dims'>(n_samples)</div><div class='xr-var-dtype'>int64</div><div class='xr-var-preview xr-preview'>500 1000 5000 10000 50000</div><input id='attrs-001ec7f2-8435-424a-8a79-9cdb04774b4f' class='xr-var-attrs-in' type='checkbox' disabled><label for='attrs-001ec7f2-8435-424a-8a79-9cdb04774b4f' title='Show/Hide attributes'><svg class='icon xr-icon-file-text2'><use xlink:href='#icon-file-text2'></use></svg></label><input id='data-23401de9-c085-4d16-8c3c-85d209b069da' class='xr-var-data-in' type='checkbox'><label for='data-23401de9-c085-4d16-8c3c-85d209b069da' title='Show/Hide data repr'><svg class='icon xr-icon-database'><use xlink:href='#icon-database'></use></svg></label><div class='xr-var-attrs'><dl class='xr-attrs'></dl></div><div class='xr-var-data'><pre>array([  500,  1000,  5000, 10000, 50000])</pre></div></li><li class='xr-var-item'><div class='xr-var-name'><span class='xr-has-index'>n_features</span></div><div class='xr-var-dims'>(n_features)</div><div class='xr-var-dtype'>int64</div><div class='xr-var-preview xr-preview'>10</div><input id='attrs-0b960ac3-77b5-4e21-89cb-afe113c7d153' class='xr-var-attrs-in' type='checkbox' disabled><label for='attrs-0b960ac3-77b5-4e21-89cb-afe113c7d153' title='Show/Hide attributes'><svg class='icon xr-icon-file-text2'><use xlink:href='#icon-file-text2'></use></svg></label><input id='data-02bfacf7-2f3f-47e9-9121-6158b2c263fc' class='xr-var-data-in' type='checkbox'><label for='data-02bfacf7-2f3f-47e9-9121-6158b2c263fc' title='Show/Hide data repr'><svg class='icon xr-icon-database'><use xlink:href='#icon-database'></use></svg></label><div class='xr-var-attrs'><dl class='xr-attrs'></dl></div><div class='xr-var-data'><pre>array([10])</pre></div></li><li class='xr-var-item'><div class='xr-var-name'><span class='xr-has-index'>trial</span></div><div class='xr-var-dims'>(trial)</div><div class='xr-var-dtype'>int64</div><div class='xr-var-preview xr-preview'>0 1 2 3 4 5 6 7 8 9</div><input id='attrs-60681d59-23cf-481c-bf2e-bca59f2aaab2' class='xr-var-attrs-in' type='checkbox' disabled><label for='attrs-60681d59-23cf-481c-bf2e-bca59f2aaab2' title='Show/Hide attributes'><svg class='icon xr-icon-file-text2'><use xlink:href='#icon-file-text2'></use></svg></label><input id='data-3e489327-ead2-4f89-b4e4-230ce2d31bc0' class='xr-var-data-in' type='checkbox'><label for='data-3e489327-ead2-4f89-b4e4-230ce2d31bc0' title='Show/Hide data repr'><svg class='icon xr-icon-database'><use xlink:href='#icon-database'></use></svg></label><div class='xr-var-attrs'><dl class='xr-attrs'></dl></div><div class='xr-var-data'><pre>array([0, 1, 2, 3, 4, 5, 6, 7, 8, 9])</pre></div></li><li class='xr-var-item'><div class='xr-var-name'><span class='xr-has-index'>algorithm</span></div><div class='xr-var-dims'>(algorithm)</div><div class='xr-var-dtype'>object</div><div class='xr-var-preview xr-preview'>&#x27;gaussian&#x27; &#x27;knn_nbs&#x27; ... &#x27;truth&#x27;</div><input id='attrs-be8fb948-fc59-4545-b2e0-3b345c7ada7b' class='xr-var-attrs-in' type='checkbox' disabled><label for='attrs-be8fb948-fc59-4545-b2e0-3b345c7ada7b' title='Show/Hide attributes'><svg class='icon xr-icon-file-text2'><use xlink:href='#icon-file-text2'></use></svg></label><input id='data-ae89adf1-4224-4311-853d-50e9b0aa0a4b' class='xr-var-data-in' type='checkbox'><label for='data-ae89adf1-4224-4311-853d-50e9b0aa0a4b' title='Show/Hide data repr'><svg class='icon xr-icon-database'><use xlink:href='#icon-database'></use></svg></label><div class='xr-var-attrs'><dl class='xr-attrs'></dl></div><div class='xr-var-data'><pre>array([&#x27;gaussian&#x27;, &#x27;knn_nbs&#x27;, &#x27;knn_tree&#x27;, &#x27;truth&#x27;], dtype=object)</pre></div></li></ul></div></li><li class='xr-section-item'><input id='section-d0a867ed-c99f-4d93-be3f-f50e83ee38c3' class='xr-section-summary-in' type='checkbox'  checked><label for='section-d0a867ed-c99f-4d93-be3f-f50e83ee38c3' class='xr-section-summary' >Data variables: <span>(1)</span></label><div class='xr-section-inline-details'></div><div class='xr-section-details'><ul class='xr-var-list'><li class='xr-var-item'><div class='xr-var-name'><span>H</span></div><div class='xr-var-dims'>(n_samples, n_features, trial, algorithm)</div><div class='xr-var-dtype'>float64</div><div class='xr-var-preview xr-preview'>9.819 16.9 15.54 ... 12.11 13.78</div><input id='attrs-58b38d16-344a-4477-8bda-97fa9d5f20b5' class='xr-var-attrs-in' type='checkbox' disabled><label for='attrs-58b38d16-344a-4477-8bda-97fa9d5f20b5' title='Show/Hide attributes'><svg class='icon xr-icon-file-text2'><use xlink:href='#icon-file-text2'></use></svg></label><input id='data-64c8c1db-ed88-4443-b884-e8a58c6dd4d5' class='xr-var-data-in' type='checkbox'><label for='data-64c8c1db-ed88-4443-b884-e8a58c6dd4d5' title='Show/Hide data repr'><svg class='icon xr-icon-database'><use xlink:href='#icon-database'></use></svg></label><div class='xr-var-attrs'><dl class='xr-attrs'></dl></div><div class='xr-var-data'><pre>array([[[[ 9.81880348, 16.89699549, 15.53747664, 12.05661227],\n",
       "         [13.58643523, 16.80769262, 15.4558456 , 13.91768819],\n",
       "         [12.91186799, 15.94925639, 14.30294224, 13.13303747],\n",
       "         [13.53046496, 16.14375331, 14.70653693, 13.98112276],\n",
       "         [ 9.74522753, 16.59344664, 15.31982882, 12.02211803],\n",
       "         [11.63087198, 15.59337538, 14.04438091, 12.71607062],\n",
       "         [14.88438833, 18.10898657, 17.20185382, 14.68457771],\n",
       "         [13.33010549, 16.1223972 , 14.48468825, 13.8390346 ],\n",
       "         [13.12197622, 16.45865723, 14.97940889, 13.34874778],\n",
       "         [12.78198378, 16.94110972, 15.6403578 , 13.78301175]]],\n",
       "\n",
       "\n",
       "       [[[ 9.94432399, 16.44410504, 14.85480632, 12.05661227],\n",
       "         [13.64947723, 16.26066921, 14.71314704, 13.91768819],\n",
       "         [12.82717816, 15.21958947, 13.39877289, 13.13303747],\n",
       "         [13.6366321 , 15.62863704, 13.96486107, 13.98112276],\n",
       "         [10.04265717, 16.3451013 , 14.97374589, 12.02211803],\n",
       "         [11.40790277, 14.69125916, 12.74866184, 12.71607062],\n",
       "         [15.21386757, 17.71398202, 16.73429586, 14.68457771],\n",
       "         [13.32442119, 15.62991226, 13.8335619 , 13.8390346 ],\n",
       "...\n",
       "         [12.82994201, 13.94561196, 11.86376391, 13.13303747],\n",
       "         [13.71339702, 14.53362394, 12.60329301, 13.98112276],\n",
       "         [10.00341731, 14.7036002 , 12.94773227, 12.02211803],\n",
       "         [11.39511278, 13.34163516, 11.09133346, 12.71607062],\n",
       "         [15.49842275, 16.21092689, 14.95724341, 14.68457771],\n",
       "         [13.35810662, 14.54738295, 12.40904557, 13.8390346 ],\n",
       "         [12.9881784 , 14.34736543, 12.3530577 , 13.34874778],\n",
       "         [12.73266786, 14.71354665, 12.87011938, 13.78301175]]],\n",
       "\n",
       "\n",
       "       [[[10.17818307, 14.52392448, 12.69081232, 12.05661227],\n",
       "         [13.73129272, 14.35851134, 12.47321696, 13.91768819],\n",
       "         [12.76914238, 13.27008656, 11.09376365, 13.13303747],\n",
       "         [13.71305703, 13.95571287, 11.93719322, 13.98112276],\n",
       "         [10.02515003, 13.92945393, 12.12221295, 12.02211803],\n",
       "         [11.34866885, 12.62239646, 10.34882503, 12.71607062],\n",
       "         [15.50761373, 15.41250304, 14.06606703, 14.68457771],\n",
       "         [13.41231458, 14.10010454, 11.88583951, 13.8390346 ],\n",
       "         [12.98465619, 13.68886673, 11.60899072, 13.34874778],\n",
       "         [12.70338701, 14.02388833, 12.11473481, 13.78301175]]]])</pre></div></li></ul></div></li><li class='xr-section-item'><input id='section-f79a9b53-3cb8-4855-a54a-0e9e4819729d' class='xr-section-summary-in' type='checkbox' disabled ><label for='section-f79a9b53-3cb8-4855-a54a-0e9e4819729d' class='xr-section-summary'  title='Expand/collapse section'>Attributes: <span>(0)</span></label><div class='xr-section-inline-details'></div><div class='xr-section-details'><dl class='xr-attrs'></dl></div></li></ul></div></div>"
      ],
      "text/plain": [
       "<xarray.Dataset>\n",
       "Dimensions:     (algorithm: 4, n_features: 1, n_samples: 5, trial: 10)\n",
       "Coordinates:\n",
       "  * n_samples   (n_samples) int64 500 1000 5000 10000 50000\n",
       "  * n_features  (n_features) int64 10\n",
       "  * trial       (trial) int64 0 1 2 3 4 5 6 7 8 9\n",
       "  * algorithm   (algorithm) object 'gaussian' 'knn_nbs' 'knn_tree' 'truth'\n",
       "Data variables:\n",
       "    H           (n_samples, n_features, trial, algorithm) float64 9.819 ... 1..."
      ]
     },
     "execution_count": 50,
     "metadata": {},
     "output_type": "execute_result"
    }
   ],
   "source": [
    "stats_ds"
   ]
  },
  {
   "cell_type": "markdown",
   "id": "authorized-aurora",
   "metadata": {},
   "source": [
    "## Plots"
   ]
  },
  {
   "cell_type": "markdown",
   "id": "baking-differential",
   "metadata": {},
   "source": [
    "### Compare Values"
   ]
  },
  {
   "cell_type": "code",
   "execution_count": 51,
   "id": "conscious-memorial",
   "metadata": {},
   "outputs": [
    {
     "data": {
      "image/png": "[encoded data removed]",
      "text/plain": [
       "<Figure size 432x288 with 1 Axes>"
      ]
     },
     "metadata": {
      "image/png": {
       "height": 271,
       "width": 395
      },
      "needs_background": "light"
     },
     "output_type": "display_data"
    }
   ],
   "source": [
    "fig, ax = plt.subplots()\n",
    "\n",
    "stats_ds.sel(n_features=10, algorithm=\"truth\").mean([\"trial\"]).H.plot(\n",
    "    ax=ax, label=\"Truth\", linewidth=5, color=\"black\"\n",
    ")\n",
    "stats_ds.sel(n_features=10, algorithm=\"gaussian\").mean([\"trial\"]).H.plot(\n",
    "    ax=ax, label=\"Gaussian\", linewidth=5, linestyle=\"--\"\n",
    ")\n",
    "stats_ds.sel(n_features=10, algorithm=\"knn_nbs\").mean([\"trial\"]).H.plot(\n",
    "    ax=ax, label=\"kNN (Neighbors)\", linewidth=5, linestyle=\"--\"\n",
    ")\n",
    "# stats_ds.sel(n_features=10, algorithm=\"knn_tree\").mean([\"trial\"]).H.plot(\n",
    "#     ax=ax, label=\"kNN (Epsilon)\", linewidth=5, linestyle=\"--\"\n",
    "# )\n",
    "t = stats_ds.sel(n_features=10, algorithm=\"knn_tree\").mean([\"trial\"]).H\n",
    "# t = t / np.log(2)\n",
    "t.plot(ax=ax, label=\"kNN (Epsilon)\", linewidth=5, linestyle=\"--\")\n",
    "\n",
    "ax.set(xlabel=\"# Features\", ylabel=\"Entropy (nats)\", title=\"\")\n",
    "ax.legend()\n",
    "plt.show()"
   ]
  },
  {
   "cell_type": "markdown",
   "id": "genetic-launch",
   "metadata": {},
   "source": [
    "### Compare True Values"
   ]
  },
  {
   "cell_type": "code",
   "execution_count": 52,
   "id": "noticed-architect",
   "metadata": {},
   "outputs": [],
   "source": [
    "def percent_error(real, pred):\n",
    "    pred = np.abs(np.abs(pred - real) / real)\n",
    "    return pred"
   ]
  },
  {
   "cell_type": "code",
   "execution_count": 53,
   "id": "thorough-animation",
   "metadata": {},
   "outputs": [
    {
     "data": {
      "image/png": "[encoded data removed]",
      "text/plain": [
       "<Figure size 432x288 with 1 Axes>"
      ]
     },
     "metadata": {
      "image/png": {
       "height": 277,
       "width": 396
      },
      "needs_background": "light"
     },
     "output_type": "display_data"
    }
   ],
   "source": [
    "fig, ax = plt.subplots()\n",
    "\n",
    "real = stats_ds.sel(n_features=10, algorithm=\"truth\").mean([\"trial\"]).H\n",
    "\n",
    "# stats_ds.sel(n_features=10, algorithm=\"truth_nats\").mean([\"trial\"]).H.plot(\n",
    "#     ax=ax, label=\"Truth\", linewidth=5, color=\"black\"\n",
    "# )\n",
    "\n",
    "t = percent_error(\n",
    "    real, stats_ds.sel(n_features=10, algorithm=\"gaussian\").mean([\"trial\"]).H\n",
    ")\n",
    "t.plot(ax=ax, label=\"Gaussian\", linewidth=5, linestyle=\"-\")\n",
    "\n",
    "\n",
    "t = percent_error(\n",
    "    real, stats_ds.sel(n_features=10, algorithm=\"knn_nbs\").mean([\"trial\"]).H\n",
    ")\n",
    "t.plot(ax=ax, label=\"kNN (Neighbors)\", linewidth=5, linestyle=\"-\")\n",
    "\n",
    "t = percent_error(\n",
    "    real, stats_ds.sel(n_features=10, algorithm=\"knn_tree\").mean([\"trial\"]).H\n",
    ")\n",
    "t = t / np.log(2)\n",
    "t.plot(ax=ax, label=\"kNN (Epsilon)\", linewidth=5, linestyle=\"-\")\n",
    "\n",
    "\n",
    "ax.set(\n",
    "    xlabel=\"# Samples\", ylabel=\"Percent Error\", title=\"\", xscale=\"log\", ylim=[0.0, 1.0]\n",
    ")\n",
    "ax.grid(True, which=\"both\")\n",
    "ax.legend()\n",
    "plt.show()"
   ]
  },
  {
   "cell_type": "code",
   "execution_count": 38,
   "id": "geological-travel",
   "metadata": {},
   "outputs": [],
   "source": [
    "all_stats_ = all_stats.copy()"
   ]
  },
  {
   "cell_type": "code",
   "execution_count": null,
   "id": "exciting-monte",
   "metadata": {},
   "outputs": [],
   "source": []
  }
 ],
 "metadata": {
  "kernelspec": {
   "display_name": "Python [conda env:.conda-jax_py38]",
   "language": "python",
   "name": "conda-env-.conda-jax_py38-py"
  },
  "language_info": {
   "codemirror_mode": {
    "name": "ipython",
    "version": 3
   },
   "file_extension": ".py",
   "mimetype": "text/x-python",
   "name": "python",
   "nbconvert_exporter": "python",
   "pygments_lexer": "ipython3",
   "version": "3.8.5"
  }
 },
 "nbformat": 4,
 "nbformat_minor": 5
}
