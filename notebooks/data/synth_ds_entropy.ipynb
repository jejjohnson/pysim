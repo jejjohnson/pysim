{
 "cells": [
  {
   "cell_type": "markdown",
   "id": "approved-methodology",
   "metadata": {},
   "source": [
    "# Synthetic Entropy Datasets"
   ]
  },
  {
   "cell_type": "code",
   "execution_count": 1,
   "id": "painted-youth",
   "metadata": {},
   "outputs": [],
   "source": [
    "import sys, os\n",
    "from pyprojroot import here\n",
    "\n",
    "# spyder up to find the root\n",
    "root = here(project_files=[\".here\"])\n",
    "pysim_root = \"/home/emmanuel/code/pysim\"\n",
    "# append to path\n",
    "sys.path.append(str(root))\n",
    "sys.path.append(str(pysim_root))\n",
    "\n",
    "import numpy as np\n",
    "\n",
    "# MATPLOTLIB Settings\n",
    "import matplotlib as mpl\n",
    "import matplotlib.pyplot as plt\n",
    "\n",
    "%matplotlib inline\n",
    "%config InlineBackend.figure_format = 'retina'\n",
    "\n",
    "# SEABORN SETTINGS\n",
    "import seaborn as sns\n",
    "import corner\n",
    "\n",
    "sns.set_context(context=\"talk\", font_scale=0.7)\n",
    "\n",
    "%load_ext autoreload\n",
    "%autoreload 2\n",
    "%load_ext lab_black"
   ]
  },
  {
   "cell_type": "markdown",
   "id": "still-anatomy",
   "metadata": {},
   "source": [
    "## Entropy"
   ]
  },
  {
   "cell_type": "markdown",
   "id": "creative-above",
   "metadata": {},
   "source": [
    "### Estimators"
   ]
  },
  {
   "cell_type": "code",
   "execution_count": 42,
   "id": "sporting-worse",
   "metadata": {},
   "outputs": [],
   "source": [
    "# !pip install \"git+https://github.com/gregversteeg/NPEET.git\"\n",
    "# !pip install mutual-info"
   ]
  },
  {
   "cell_type": "code",
   "execution_count": 55,
   "id": "continuing-pittsburgh",
   "metadata": {},
   "outputs": [],
   "source": [
    "from mutual_info.mutual_info import entropy as mi_entropy\n",
    "from npeet.entropy_estimators import entropy as npeet_entropy"
   ]
  },
  {
   "cell_type": "code",
   "execution_count": 16,
   "id": "ambient-voice",
   "metadata": {},
   "outputs": [],
   "source": [
    "from pysim.information.gaussian import gauss_entropy_multi\n",
    "from pysim.information.histogram import hist_entropy\n",
    "from pysim.information.entropy import marginal_entropy\n",
    "import time\n",
    "\n",
    "\n",
    "def get_entropy_estimators(data):\n",
    "\n",
    "    t0 = time.time()\n",
    "    H_g = gauss_entropy_multi(data)\n",
    "    print(f\"Gaussian: {H_g:.4f} | Time: {time.time()-t0:.4f} secs\")\n",
    "\n",
    "    t0 = time.time()\n",
    "    H_knn_nbs = mi_entropy(data, k=10, transform=None)\n",
    "    print(f\"KNN (Neighbours): {H_knn_nbs:.4f}  | Time: {time.time()-t0:.4f} secs\")\n",
    "\n",
    "    t0 = time.time()\n",
    "    H_knn_eps = npeet_entropy(data, k=10, base=np.e)\n",
    "    print(f\"KNN (epsilon): {H_knn_eps:.4f} | Time: {time.time()-t0:.4f} secs\")"
   ]
  },
  {
   "cell_type": "markdown",
   "id": "incorporate-samoa",
   "metadata": {},
   "source": [
    "## Toy Data"
   ]
  },
  {
   "cell_type": "code",
   "execution_count": 56,
   "id": "human-calendar",
   "metadata": {},
   "outputs": [],
   "source": [
    "n_samples = 50_000\n",
    "n_features = 1\n",
    "seed = 123"
   ]
  },
  {
   "cell_type": "markdown",
   "id": "white-constitution",
   "metadata": {},
   "source": [
    "### Gaussian\n",
    "\n",
    "**Implementation Notes**:\n",
    "\n",
    "1. We randomly generate a positive semi-definite $D \\times D$ matrix. This acts as our covariance matrix $\\boldsymbol{\\Sigma}$.\n",
    "\n",
    "2. We use a mean, $\\boldsymbol{\\mu}$ of $\\mathbf{0}$.\n",
    "\n",
    "3. We generate an upper limit of 5e5 data points and then random subset the requested number."
   ]
  },
  {
   "cell_type": "code",
   "execution_count": 57,
   "id": "coupled-broad",
   "metadata": {},
   "outputs": [],
   "source": [
    "from pysim.data.information.gaussian import generate_gaussian_data\n",
    "\n",
    "\n",
    "from functools import partial"
   ]
  },
  {
   "cell_type": "code",
   "execution_count": 58,
   "id": "yellow-neighborhood",
   "metadata": {},
   "outputs": [],
   "source": [
    "# create seed (trial number)\n",
    "res_tuple = generate_gaussian_data(\n",
    "    n_samples=n_samples, n_features=n_features, seed=seed, n_base_samples=500_000,\n",
    ")"
   ]
  },
  {
   "cell_type": "code",
   "execution_count": null,
   "id": "alpha-appliance",
   "metadata": {},
   "outputs": [],
   "source": []
  },
  {
   "cell_type": "code",
   "execution_count": 59,
   "id": "median-adolescent",
   "metadata": {},
   "outputs": [
    {
     "data": {
      "image/png": "[encoded data removed]",
      "text/plain": [
       "<Figure size 244.8x244.8 with 1 Axes>"
      ]
     },
     "metadata": {
      "image/png": {
       "height": 191,
       "width": 167
      },
      "needs_background": "light"
     },
     "output_type": "display_data"
    }
   ],
   "source": [
    "fig = corner.corner(res_tuple.X[:, :10], bins=100)"
   ]
  },
  {
   "cell_type": "markdown",
   "id": "stainless-greene",
   "metadata": {},
   "source": [
    "#### Entropy\n",
    "\n",
    "This has a known formula:\n",
    "\n",
    "$$\n",
    "H(\\mathbf{X}) = \\frac{D}{2} + \\frac{D}{2}\\log (2\\pi)+ \\frac{1}{2}\\log \\left|\\boldsymbol{\\Sigma}_{\\mathbf{xx}} \\right|\n",
    "$$\n",
    "\n",
    "where:\n",
    "\n",
    "* $D$ - number of features\n",
    "* $\\left|\\cdot \\right|$ - absolute determinant\n",
    "* $\\boldsymbol{\\Sigma}_{\\mathbf{xx}} \\in \\mathbb{R}^{D \\times D}$ - covariance matrix\n",
    "\n",
    "**Note**: This entropy measure has the units `nats`."
   ]
  },
  {
   "cell_type": "code",
   "execution_count": 60,
   "id": "european-quilt",
   "metadata": {},
   "outputs": [
    {
     "name": "stdout",
     "output_type": "stream",
     "text": [
      "True Value: 1.5448\n"
     ]
    }
   ],
   "source": [
    "print(f\"True Value: {res_tuple.H:.4f}\")"
   ]
  },
  {
   "cell_type": "code",
   "execution_count": 61,
   "id": "suburban-stack",
   "metadata": {},
   "outputs": [
    {
     "name": "stdout",
     "output_type": "stream",
     "text": [
      "Gaussian: 1.5447 | Time: 0.0011 secs\n",
      "KNN (Neighbours): 1.5454  | Time: 0.2745 secs\n",
      "KNN (epsilon): 1.5454 | Time: 0.2106 secs\n"
     ]
    }
   ],
   "source": [
    "get_entropy_estimators(res_tuple.X.copy())"
   ]
  },
  {
   "cell_type": "markdown",
   "id": "numerous-replica",
   "metadata": {},
   "source": [
    "### Rotated Gaussian\n",
    "\n",
    "This is similar to the above approach. We take a matrix $\\mathbf{X}$ that's generated from a standard, multivariate Normal distribution and we multiply it by a random square matrix.\n",
    "\n",
    "$$\n",
    "\\mathbf{Y} = \\mathbf{AX}\n",
    "$$\n",
    "\n",
    "where:\n",
    "\n",
    "* $A_{ij} \\sim \\mathcal{U}[0,1]$\n",
    "* $\\mathbf{X} \\sim \\mathcal{N}(\\mathbf{0},\\mathbf{1})$\n",
    "\n",
    "This ensures that all correlations are positive as opposed to the above example where it is completely random."
   ]
  },
  {
   "cell_type": "code",
   "execution_count": 62,
   "id": "satisfied-vitamin",
   "metadata": {},
   "outputs": [],
   "source": [
    "from pysim.data.information.gaussian import generate_gaussian_rotation_data"
   ]
  },
  {
   "cell_type": "code",
   "execution_count": 63,
   "id": "demographic-skill",
   "metadata": {},
   "outputs": [],
   "source": [
    "# create seed (trial number)\n",
    "res_tuple = generate_gaussian_rotation_data(\n",
    "    n_samples=n_samples, n_features=n_features, seed=seed, n_base_samples=500_000,\n",
    ")"
   ]
  },
  {
   "cell_type": "code",
   "execution_count": 64,
   "id": "statewide-silence",
   "metadata": {},
   "outputs": [
    {
     "data": {
      "image/png": "[encoded data removed]",
      "text/plain": [
       "<Figure size 244.8x244.8 with 1 Axes>"
      ]
     },
     "metadata": {
      "image/png": {
       "height": 198,
       "width": 167
      },
      "needs_background": "light"
     },
     "output_type": "display_data"
    }
   ],
   "source": [
    "fig = corner.corner(res_tuple.X[:, :10], bins=100)"
   ]
  },
  {
   "cell_type": "markdown",
   "id": "technical-extension",
   "metadata": {},
   "source": [
    "#### Entropy"
   ]
  },
  {
   "cell_type": "markdown",
   "id": "motivated-union",
   "metadata": {},
   "source": [
    "Let $\\mathbf{x} = f(\\mathbf{z}) = \\mathbf{Az}$.\n",
    "\n",
    "\n",
    "where $\\mathbf{A} \\in \\mathbb{R}^{D \\times D}$ and $\\mathbf{z}\\in \\mathbb{R}^{D}$. In general, we can compute the differential entropy over the invertible transformation:\n",
    "\n",
    "$$\n",
    "H(\\mathbf{AX}) = H(\\mathbf{Z}) + \\log\\left| \\mathbf{A} \\right|\n",
    "$$\n",
    "\n",
    "In **general**, differential entropy is not invariant to arbitrary invertible maps. It is **translation** invariant, (e.g. $a\\mathbf{x})$)\n"
   ]
  },
  {
   "cell_type": "code",
   "execution_count": 65,
   "id": "configured-magazine",
   "metadata": {},
   "outputs": [
    {
     "data": {
      "text/plain": [
       "1.340666689676585"
      ]
     },
     "execution_count": 65,
     "metadata": {},
     "output_type": "execute_result"
    }
   ],
   "source": [
    "res_tuple.H"
   ]
  },
  {
   "cell_type": "code",
   "execution_count": 66,
   "id": "opening-commons",
   "metadata": {},
   "outputs": [
    {
     "name": "stdout",
     "output_type": "stream",
     "text": [
      "Gaussian: 1.3406 | Time: 0.0009 secs\n",
      "KNN (Neighbours): 1.3413  | Time: 0.1940 secs\n",
      "KNN (epsilon): 1.3413 | Time: 0.1362 secs\n"
     ]
    }
   ],
   "source": [
    "get_entropy_estimators(res_tuple.X.copy())"
   ]
  },
  {
   "cell_type": "markdown",
   "id": "coordinated-preference",
   "metadata": {},
   "source": [
    "### Uniform + Linear Rotation\n",
    "\n",
    "Given a latent rv $Z$ that is sampled from a uniform distribution, $\\mathcal{U}[0,1]$, we do a linear transformation s.t.:\n",
    "\n",
    "$$\n",
    "\\mathbf{X} = \\mathbf{A}\\mathbf{Z}\n",
    "$$\n",
    "\n",
    "where $\\mathbf{A}$ is a random matrix, i.e. the values $A_{ij}$ are generated from a uniform distribution, $A_{ij}\\sim \\mathcal{U}[0,1]$.\n",
    "\n",
    "\n"
   ]
  },
  {
   "cell_type": "code",
   "execution_count": 67,
   "id": "hawaiian-legislature",
   "metadata": {},
   "outputs": [],
   "source": [
    "from pysim.data.information.linear import generate_linear_entropy_data"
   ]
  },
  {
   "cell_type": "code",
   "execution_count": 76,
   "id": "earlier-following",
   "metadata": {},
   "outputs": [],
   "source": [
    "# create marginal entropy estimator\n",
    "f = partial(marginal_entropy, estimator=hist_entropy, bins=\"sqrt\")\n",
    "\n",
    "# create seed (trial number)\n",
    "res_tuple = generate_linear_entropy_data(\n",
    "    n_samples=n_samples,\n",
    "    n_features=n_features,\n",
    "    seed=seed,\n",
    "    marg_h_estimator=f,\n",
    "    estimator_name=\"histogram\",\n",
    "    n_base_samples=500_000,\n",
    ")"
   ]
  },
  {
   "cell_type": "code",
   "execution_count": 69,
   "id": "phantom-camcorder",
   "metadata": {},
   "outputs": [
    {
     "data": {
      "image/png": "[encoded data removed]",
      "text/plain": [
       "<Figure size 244.8x244.8 with 1 Axes>"
      ]
     },
     "metadata": {
      "image/png": {
       "height": 196,
       "width": 168
      },
      "needs_background": "light"
     },
     "output_type": "display_data"
    }
   ],
   "source": [
    "fig = corner.corner(res_tuple.X[:, :10], bins=100)"
   ]
  },
  {
   "cell_type": "markdown",
   "id": "medical-apache",
   "metadata": {},
   "source": [
    "### Entropy"
   ]
  },
  {
   "cell_type": "markdown",
   "id": "express-newman",
   "metadata": {},
   "source": [
    "In this example, we're going to be using a synthetically created uniform distribution with independent marginals. This is actually very similar to the above example but we have to be a bit creative for this example. It stems from the properties of the uniform distribution in general.\n",
    "\n",
    "**Multivariate Uniform Distribution**\n",
    "\n",
    "* Each $\\mathbf{x}_j$ has a uniform distribution between 0 and 1.\n",
    "* Any set of $n$ $\\mathbf{x}_j$'s have a uniform distribution within an N-dimensional unit hypercube.\n",
    "* Each of the $\\mathbf{x}_j$ can be regarded as independent no matter how large $N$ is.\n",
    "\n",
    "This is a problem for random number generators and so they cannot really effectively generate a true multivariate normal distribution with independent marginals."
   ]
  },
  {
   "cell_type": "markdown",
   "id": "christian-polymer",
   "metadata": {},
   "source": [
    "---\n",
    "\n",
    "We still have the same relationship for a transformed variable:\n",
    "\n",
    "$$\n",
    "H(\\mathbf{X}) = H(\\mathbf{Z}) + \\log\\left| \\mathbf{A} \\right|\n",
    "$$\n",
    "\n",
    "So to handle this, we will generate a synthetic dataset where we have independent marginal distributions. So we are ensuring that the there is no joint information for the total entropy st:\n",
    "\n",
    "$$\n",
    "H(\\mathbf{Z}) = \\sum_j^D H(\\mathbf{z}_j)\n",
    "$$\n",
    "\n",
    "Now we can simplify this such that we replace the joint entropy with the summation:\n",
    "\n",
    "$$\n",
    "H(\\mathbf{X}) = \\sum_{i}^{D} H(\\mathbf{z}_j) + \\log\\left| \\mathbf{A} \\right|\n",
    "$$\n",
    "\n",
    "\n",
    "**Note**: This method does introduce biases with the ground truth because we still need to estimate the marginal entropy. However, we account for this by using many more samples than what will be asked (e.g. 5e5) to ensure ample sampling. In addition, we have confidence in univariate entropy estimators, e.g. histogram, KDE, K-NN, etc.\n"
   ]
  },
  {
   "cell_type": "code",
   "execution_count": 70,
   "id": "bacterial-shepherd",
   "metadata": {},
   "outputs": [
    {
     "data": {
      "text/plain": [
       "1.0207834632254125"
      ]
     },
     "execution_count": 70,
     "metadata": {},
     "output_type": "execute_result"
    }
   ],
   "source": [
    "res_tuple.H"
   ]
  },
  {
   "cell_type": "markdown",
   "id": "adult-boating",
   "metadata": {},
   "source": [
    "### Estimators"
   ]
  },
  {
   "cell_type": "code",
   "execution_count": 71,
   "id": "demanding-concentration",
   "metadata": {},
   "outputs": [
    {
     "name": "stdout",
     "output_type": "stream",
     "text": [
      "Gaussian: 2.0329 | Time: 0.0010 secs\n",
      "KNN (Neighbours): 1.4317  | Time: 0.2791 secs\n",
      "KNN (epsilon): 1.4317 | Time: 0.2183 secs\n"
     ]
    }
   ],
   "source": [
    "get_entropy_estimators(res_tuple.X.copy())"
   ]
  },
  {
   "cell_type": "markdown",
   "id": "brilliant-running",
   "metadata": {},
   "source": [
    "### T-Student"
   ]
  },
  {
   "cell_type": "code",
   "execution_count": 78,
   "id": "remarkable-isolation",
   "metadata": {},
   "outputs": [],
   "source": [
    "from pysim.data.information.studentt import generate_studentt_data"
   ]
  },
  {
   "cell_type": "code",
   "execution_count": 79,
   "id": "minor-parent",
   "metadata": {},
   "outputs": [],
   "source": [
    "# create seed (trial number)\n",
    "df = 5.0\n",
    "res_tuple = generate_studentt_data(\n",
    "    n_samples=n_samples,\n",
    "    n_features=n_features,\n",
    "    df=df,\n",
    "    seed=seed,\n",
    "    n_base_samples=500_000,\n",
    ")"
   ]
  },
  {
   "cell_type": "code",
   "execution_count": 81,
   "id": "incident-table",
   "metadata": {},
   "outputs": [
    {
     "data": {
      "image/png": "[encoded data removed]",
      "text/plain": [
       "<Figure size 244.8x244.8 with 1 Axes>"
      ]
     },
     "metadata": {
      "image/png": {
       "height": 196,
       "width": 167
      },
      "needs_background": "light"
     },
     "output_type": "display_data"
    }
   ],
   "source": [
    "fig = corner.corner(res_tuple.X[:, :10], bins=100)"
   ]
  },
  {
   "cell_type": "markdown",
   "id": "domestic-daughter",
   "metadata": {},
   "source": [
    "#### Entropy\n",
    "\n",
    "This has a closed-form solution as found in the paper by [ Guerrero-Cusumano et al (1996)](https://www.sciencedirect.com/science/article/pii/0020025596000448) (eqn 8). \n",
    "\n",
    "$$\n",
    "\\begin{aligned}\n",
    "H(D,\\nu, \\boldsymbol{\\Sigma}) &= \\frac{1}{2}\\log \\left|\\boldsymbol{\\Sigma} \\right| \\\\\n",
    "&+ \\log \\left[ \\frac{((\\nu-2) \\pi)^{\\frac{D}{2}}}{\\Gamma\\left(\\frac{D}{2} \\right)}  \\beta \\left( \\frac{D}{2},\\frac{\\nu}{2} \\right)\\right] \\\\\n",
    "&+ \\frac{\\nu + D}{2} \\left[ \\psi\\left( \\frac{\\nu + D}{2} \\right)-\\psi\\left( \\frac{\\nu}{2} \\right) \\right]\n",
    "\\end{aligned}\n",
    "$$\n",
    "\n",
    "**Note**: This is **only** for the case where the degrees of freedom, $\\nu$ is greater or equal to 2."
   ]
  },
  {
   "cell_type": "code",
   "execution_count": 82,
   "id": "forward-wrestling",
   "metadata": {},
   "outputs": [
    {
     "data": {
      "text/plain": [
       "1.4979123481675516"
      ]
     },
     "execution_count": 82,
     "metadata": {},
     "output_type": "execute_result"
    }
   ],
   "source": [
    "res_tuple.H"
   ]
  },
  {
   "cell_type": "markdown",
   "id": "accredited-competition",
   "metadata": {},
   "source": [
    "#### Estimators"
   ]
  },
  {
   "cell_type": "code",
   "execution_count": 83,
   "id": "subjective-memphis",
   "metadata": {},
   "outputs": [
    {
     "name": "stdout",
     "output_type": "stream",
     "text": [
      "Gaussian: 1.8066 | Time: 0.0010 secs\n",
      "KNN (Neighbours): 1.7533  | Time: 0.2828 secs\n",
      "KNN (epsilon): 1.7533 | Time: 0.2272 secs\n"
     ]
    }
   ],
   "source": [
    "get_entropy_estimators(res_tuple.X.copy())"
   ]
  },
  {
   "cell_type": "markdown",
   "id": "welcome-locator",
   "metadata": {},
   "source": [
    "### Cauchy\n",
    "\n",
    "This is a special case of the T-Student Distribution when the degrees of freedom, $\\nu$, is equal to 1. "
   ]
  },
  {
   "cell_type": "code",
   "execution_count": 84,
   "id": "remarkable-ballot",
   "metadata": {},
   "outputs": [],
   "source": [
    "# create seed (trial number)\n",
    "df = 1.0\n",
    "res_tuple = generate_studentt_data(\n",
    "    n_samples=n_samples,\n",
    "    n_features=n_features,\n",
    "    df=df,\n",
    "    seed=seed,\n",
    "    n_base_samples=500_000,\n",
    ")"
   ]
  },
  {
   "cell_type": "code",
   "execution_count": 87,
   "id": "alike-melbourne",
   "metadata": {},
   "outputs": [
    {
     "data": {
      "image/png": "[encoded data removed]",
      "text/plain": [
       "<Figure size 244.8x244.8 with 1 Axes>"
      ]
     },
     "metadata": {
      "image/png": {
       "height": 211,
       "width": 177
      },
      "needs_background": "light"
     },
     "output_type": "display_data"
    }
   ],
   "source": [
    "fig = corner.corner(res_tuple.X[:, :10], hist_bin_factor=2)"
   ]
  },
  {
   "cell_type": "markdown",
   "id": "furnished-amplifier",
   "metadata": {},
   "source": [
    "#### Entropy\n",
    "\n",
    "\n",
    "Again, this has a closed-form solution as found in the paper by [ Guerrero-Cusumano et al (1996)](https://www.sciencedirect.com/science/article/pii/0020025596000448) (eqn ...). \n",
    "\n",
    "$$\n",
    "\\begin{aligned}\n",
    "H(D,\\nu, \\boldsymbol{\\Sigma}) &= \\frac{1}{2}\\log \\left|\\boldsymbol{\\Sigma} \\right| \\\\\n",
    "&+ \\log \\left[ \\frac{(\\pi)^{\\frac{D}{2}}}{\\Gamma\\left(\\frac{D}{2} \\right)}  \\beta \\left( \\frac{D}{2},\\frac{1}{2} \\right)\\right] \\\\\n",
    "&+ \\frac{1 + D}{2} \\left[ \\psi\\left( \\frac{1 + D}{2} \\right)-\\psi\\left( \\frac{1}{2} \\right) \\right]\n",
    "\\end{aligned}\n",
    "$$\n",
    "\n",
    "**Note**: This is **only** for the case where the degrees of freedom, $\\nu$ is greater or equal to 2."
   ]
  },
  {
   "cell_type": "code",
   "execution_count": 88,
   "id": "laughing-dependence",
   "metadata": {},
   "outputs": [
    {
     "data": {
      "text/plain": [
       "2.656846734605442"
      ]
     },
     "execution_count": 88,
     "metadata": {},
     "output_type": "execute_result"
    }
   ],
   "source": [
    "res_tuple.H"
   ]
  },
  {
   "cell_type": "code",
   "execution_count": 89,
   "id": "municipal-sandwich",
   "metadata": {},
   "outputs": [
    {
     "name": "stdout",
     "output_type": "stream",
     "text": [
      "Gaussian: 6.2733 | Time: 0.0010 secs\n",
      "KNN (Neighbours): 2.6619  | Time: 0.2774 secs\n",
      "KNN (epsilon): 2.6619 | Time: 0.2152 secs\n"
     ]
    }
   ],
   "source": [
    "get_entropy_estimators(res_tuple.X.copy())"
   ]
  },
  {
   "cell_type": "code",
   "execution_count": null,
   "id": "partial-roots",
   "metadata": {},
   "outputs": [],
   "source": []
  }
 ],
 "metadata": {
  "kernelspec": {
   "display_name": "Python [conda env:.conda-jax_py38]",
   "language": "python",
   "name": "conda-env-.conda-jax_py38-py"
  },
  "language_info": {
   "codemirror_mode": {
    "name": "ipython",
    "version": 3
   },
   "file_extension": ".py",
   "mimetype": "text/x-python",
   "name": "python",
   "nbconvert_exporter": "python",
   "pygments_lexer": "ipython3",
   "version": "3.8.5"
  }
 },
 "nbformat": 4,
 "nbformat_minor": 5
}
